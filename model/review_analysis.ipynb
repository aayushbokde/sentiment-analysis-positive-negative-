{
  "cells": [
    {
      "cell_type": "code",
      "execution_count": 5,
      "metadata": {
        "id": "z33d4sijcV2o"
      },
      "outputs": [],
      "source": [
        "import pandas as pd\n",
        "import numpy as np\n",
        "\n",
        "df = pd.read_csv(r\"C:\\Users\\aayus\\OneDrive\\Desktop\\projects\\positive_negative_reviews\\Dataset\\IMDB_reviews\\IMDB Dataset.csv\")"
      ]
    },
    {
      "cell_type": "code",
      "execution_count": 6,
      "metadata": {
        "colab": {
          "base_uri": "https://localhost:8080/",
          "height": 206
        },
        "id": "zEjdn7j8drqp",
        "outputId": "95e4d340-6440-4e0e-f8f5-0d2d858362dc"
      },
      "outputs": [
        {
          "data": {
            "text/html": [
              "<div>\n",
              "<style scoped>\n",
              "    .dataframe tbody tr th:only-of-type {\n",
              "        vertical-align: middle;\n",
              "    }\n",
              "\n",
              "    .dataframe tbody tr th {\n",
              "        vertical-align: top;\n",
              "    }\n",
              "\n",
              "    .dataframe thead th {\n",
              "        text-align: right;\n",
              "    }\n",
              "</style>\n",
              "<table border=\"1\" class=\"dataframe\">\n",
              "  <thead>\n",
              "    <tr style=\"text-align: right;\">\n",
              "      <th></th>\n",
              "      <th>review</th>\n",
              "      <th>sentiment</th>\n",
              "    </tr>\n",
              "  </thead>\n",
              "  <tbody>\n",
              "    <tr>\n",
              "      <th>0</th>\n",
              "      <td>One of the other reviewers has mentioned that ...</td>\n",
              "      <td>positive</td>\n",
              "    </tr>\n",
              "    <tr>\n",
              "      <th>1</th>\n",
              "      <td>A wonderful little production. &lt;br /&gt;&lt;br /&gt;The...</td>\n",
              "      <td>positive</td>\n",
              "    </tr>\n",
              "    <tr>\n",
              "      <th>2</th>\n",
              "      <td>I thought this was a wonderful way to spend ti...</td>\n",
              "      <td>positive</td>\n",
              "    </tr>\n",
              "    <tr>\n",
              "      <th>3</th>\n",
              "      <td>Basically there's a family where a little boy ...</td>\n",
              "      <td>negative</td>\n",
              "    </tr>\n",
              "    <tr>\n",
              "      <th>4</th>\n",
              "      <td>Petter Mattei's \"Love in the Time of Money\" is...</td>\n",
              "      <td>positive</td>\n",
              "    </tr>\n",
              "  </tbody>\n",
              "</table>\n",
              "</div>"
            ],
            "text/plain": [
              "                                              review sentiment\n",
              "0  One of the other reviewers has mentioned that ...  positive\n",
              "1  A wonderful little production. <br /><br />The...  positive\n",
              "2  I thought this was a wonderful way to spend ti...  positive\n",
              "3  Basically there's a family where a little boy ...  negative\n",
              "4  Petter Mattei's \"Love in the Time of Money\" is...  positive"
            ]
          },
          "execution_count": 6,
          "metadata": {},
          "output_type": "execute_result"
        }
      ],
      "source": [
        "df.head()"
      ]
    },
    {
      "cell_type": "code",
      "execution_count": 7,
      "metadata": {
        "colab": {
          "base_uri": "https://localhost:8080/"
        },
        "id": "dG5C-9Vpds-_",
        "outputId": "32d8fc34-4fac-438c-8be2-ec9852c8772d"
      },
      "outputs": [
        {
          "name": "stdout",
          "output_type": "stream",
          "text": [
            "<class 'pandas.core.frame.DataFrame'>\n",
            "RangeIndex: 9999 entries, 0 to 9998\n",
            "Data columns (total 2 columns):\n",
            " #   Column     Non-Null Count  Dtype \n",
            "---  ------     --------------  ----- \n",
            " 0   review     9999 non-null   object\n",
            " 1   sentiment  9999 non-null   object\n",
            "dtypes: object(2)\n",
            "memory usage: 156.4+ KB\n"
          ]
        }
      ],
      "source": [
        "df.info()\n"
      ]
    },
    {
      "cell_type": "code",
      "execution_count": 8,
      "metadata": {
        "colab": {
          "base_uri": "https://localhost:8080/"
        },
        "id": "vF9cHbS2dzJ0",
        "outputId": "c915b205-8da4-4d93-c819-53eeaeeae733"
      },
      "outputs": [
        {
          "name": "stdout",
          "output_type": "stream",
          "text": [
            "<bound method DataFrame.info of                                                  review sentiment\n",
            "0     One of the other reviewers has mentioned that ...  positive\n",
            "1     A wonderful little production. <br /><br />The...  positive\n",
            "2     I thought this was a wonderful way to spend ti...  positive\n",
            "3     Basically there's a family where a little boy ...  negative\n",
            "4     Petter Mattei's \"Love in the Time of Money\" is...  positive\n",
            "...                                                 ...       ...\n",
            "9994  First off, this is the worst movie I've ever s...  negative\n",
            "9995  Fun, entertaining movie about WWII German spy ...  positive\n",
            "9996  Give me a break. How can anyone say that this ...  negative\n",
            "9997  This movie is a bad movie. But after watching ...  negative\n",
            "9998  This is a movie that was probably made to ente...  negative\n",
            "\n",
            "[9999 rows x 2 columns]>\n"
          ]
        }
      ],
      "source": [
        "print(df.info)"
      ]
    },
    {
      "cell_type": "markdown",
      "metadata": {
        "id": "PY7UvmeeSSHh"
      },
      "source": [
        "# **Had to download the 'punkt' derectly via nltk downloader**\n"
      ]
    },
    {
      "cell_type": "code",
      "execution_count": 17,
      "metadata": {
        "colab": {
          "base_uri": "https://localhost:8080/"
        },
        "id": "QxNGOaHLeDsl",
        "outputId": "bfaa6d21-41c7-4454-9989-53ff9a69fae2"
      },
      "outputs": [
        {
          "name": "stderr",
          "output_type": "stream",
          "text": [
            "[nltk_data] Downloading package stopwords to\n",
            "[nltk_data]     C:\\Users\\aayus\\AppData\\Roaming\\nltk_data...\n",
            "[nltk_data]   Package stopwords is already up-to-date!\n",
            "[nltk_data] Downloading package punkt to\n",
            "[nltk_data]     C:\\Users\\aayus\\AppData\\Roaming\\nltk_data...\n",
            "[nltk_data]   Package punkt is already up-to-date!\n",
            "[nltk_data] Downloading package punkt_tab to\n",
            "[nltk_data]     C:\\Users\\aayus\\AppData\\Roaming\\nltk_data...\n",
            "[nltk_data]   Unzipping tokenizers\\punkt_tab.zip.\n"
          ]
        },
        {
          "data": {
            "text/plain": [
              "True"
            ]
          },
          "execution_count": 17,
          "metadata": {},
          "output_type": "execute_result"
        }
      ],
      "source": [
        "import re\n",
        "import nltk\n",
        "  # This should resolve the missing resource issue.\n",
        "from nltk.corpus import stopwords\n",
        "from nltk.tokenize import word_tokenize\n",
        "nltk.download('stopwords')\n",
        "nltk.download('punkt')\n",
        "nltk.download('punkt_tab')"
      ]
    },
    {
      "cell_type": "code",
      "execution_count": 18,
      "metadata": {},
      "outputs": [
        {
          "name": "stdout",
          "output_type": "stream",
          "text": [
            "<class 'pandas.core.series.Series'>\n",
            "RangeIndex: 9999 entries, 0 to 9998\n",
            "Series name: review\n",
            "Non-Null Count  Dtype \n",
            "--------------  ----- \n",
            "9999 non-null   object\n",
            "dtypes: object(1)\n",
            "memory usage: 78.2+ KB\n"
          ]
        }
      ],
      "source": [
        "df['review'].info()"
      ]
    },
    {
      "cell_type": "code",
      "execution_count": 20,
      "metadata": {
        "id": "7kndeQ4Tu5db"
      },
      "outputs": [],
      "source": [
        "\n",
        "def preprocess_text(text):\n",
        "  text = text.lower() #lower case the text\n",
        "  text = re.sub(r'<[^>]+>', '', text) #removing the HTML tags\n",
        "  text = re.sub(r'[^a-zA-Z\\s]', '',text) #removing the special characters\n",
        "  words = word_tokenize(text) # tokenization of the text\n",
        "\n",
        "  words = [word for word in words if word not in stopwords.words('english')] # Removing the stopwors('on', 'of', 'in', 'the', etc.)\n",
        "  return \" \".join(words) # returns the tokenize texts in the form of a sentence\n",
        "\n",
        "\n",
        "df['review'] = df['review'].apply(preprocess_text)\n",
        "df['sentiment'] = df['sentiment'].map({'positive': 1, 'negative': 0})\n"
      ]
    },
    {
      "cell_type": "markdown",
      "metadata": {
        "id": "-eIHyxvpSluh"
      },
      "source": [
        "Testing if the preprocessing works without error"
      ]
    },
    {
      "cell_type": "code",
      "execution_count": 21,
      "metadata": {
        "colab": {
          "base_uri": "https://localhost:8080/"
        },
        "id": "y3UdqlC0sKbe",
        "outputId": "ffd84b7b-6c70-444e-97c1-18112c4df00b"
      },
      "outputs": [
        {
          "name": "stdout",
          "output_type": "stream",
          "text": [
            "['I', 'absolutely', 'LOVED', 'this', 'movie', '!', '!', '!', '<', 'br', '>', 'The', 'acting', 'was', 'fantastic', '.']\n",
            "absolutely loved movie acting fantastic\n"
          ]
        }
      ],
      "source": [
        "sample_text = \"I absolutely LOVED this movie!!! <br> The acting was fantastic.\"\n",
        "words = word_tokenize(sample_text)\n",
        "print(words)\n",
        "print(preprocess_text(sample_text))"
      ]
    },
    {
      "cell_type": "code",
      "execution_count": 24,
      "metadata": {},
      "outputs": [
        {
          "name": "stdout",
          "output_type": "stream",
          "text": [
            "1.3.2\n"
          ]
        }
      ],
      "source": [
        "import sklearn \n",
        "print(sklearn.__version__)"
      ]
    },
    {
      "cell_type": "code",
      "execution_count": 25,
      "metadata": {
        "id": "jOBE4LWPti86"
      },
      "outputs": [],
      "source": [
        "from sklearn.feature_extraction.text import TfidfVectorizer\n",
        "\n",
        "vectorizer = TfidfVectorizer(max_features = 5000)\n",
        "\n",
        "#fitting the values in the variable\n",
        "X = vectorizer.fit_transform(df['review'])\n",
        "y = df['sentiment']"
      ]
    },
    {
      "cell_type": "code",
      "execution_count": 26,
      "metadata": {
        "id": "IEADJLDZzdf6"
      },
      "outputs": [],
      "source": [
        "from sklearn.model_selection import train_test_split\n",
        "\n",
        "X_train, X_test, y_train, y_test = train_test_split(X, y, test_size=0.2, random_state=42)"
      ]
    },
    {
      "cell_type": "code",
      "execution_count": 27,
      "metadata": {
        "id": "NHqj0McETAon"
      },
      "outputs": [],
      "source": [
        "from sklearn.linear_model import LogisticRegression\n",
        "from sklearn.metrics import accuracy_score\n",
        "model = LogisticRegression()\n",
        "model.fit(X_train, y_train)\n",
        "y_pred = model.predict(X_test)\n"
      ]
    },
    {
      "cell_type": "markdown",
      "metadata": {
        "id": "TM0Il4ZJUYsJ"
      },
      "source": [
        "Model has Accuracy score of 87.05 % (fair enough)"
      ]
    },
    {
      "cell_type": "code",
      "execution_count": 28,
      "metadata": {
        "colab": {
          "base_uri": "https://localhost:8080/"
        },
        "id": "hdLvBrJ6P-kC",
        "outputId": "20ce3952-62ac-4672-9887-e3a9662c3757"
      },
      "outputs": [
        {
          "name": "stdout",
          "output_type": "stream",
          "text": [
            "0.8705\n"
          ]
        }
      ],
      "source": [
        "print(accuracy_score(y_test, y_pred))"
      ]
    },
    {
      "cell_type": "code",
      "execution_count": 29,
      "metadata": {
        "id": "14GGCWAaUWeR"
      },
      "outputs": [
        {
          "name": "stdout",
          "output_type": "stream",
          "text": [
            "Model and vectorizer saved successfully!\n"
          ]
        }
      ],
      "source": [
        "import pickle\n",
        "\n",
        "# Save the TF-IDF vectorizer\n",
        "with open(\"tfidf_vectorizer.pkl\", \"wb\") as vectorizer_file:\n",
        "    pickle.dump(vectorizer, vectorizer_file)\n",
        "\n",
        "# Save the trained model\n",
        "with open(\"sentiment_model.pkl\", \"wb\") as model_file:\n",
        "    pickle.dump(model, model_file)\n",
        "\n",
        "print(\"Model and vectorizer saved successfully!\")"
      ]
    },
    {
      "cell_type": "code",
      "execution_count": null,
      "metadata": {},
      "outputs": [],
      "source": []
    }
  ],
  "metadata": {
    "colab": {
      "provenance": []
    },
    "kernelspec": {
      "display_name": "Python 3",
      "name": "python3"
    },
    "language_info": {
      "codemirror_mode": {
        "name": "ipython",
        "version": 3
      },
      "file_extension": ".py",
      "mimetype": "text/x-python",
      "name": "python",
      "nbconvert_exporter": "python",
      "pygments_lexer": "ipython3",
      "version": "3.8.10"
    }
  },
  "nbformat": 4,
  "nbformat_minor": 0
}
